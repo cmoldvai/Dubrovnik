{
 "cells": [
  {
   "cell_type": "code",
   "execution_count": 1,
   "source": [
    "import os\r\n",
    "os.chdir(r'C:\\MyLibs\\Dubrovnik\\dubScripts')\r\n",
    "os.getcwd()\r\n"
   ],
   "outputs": [
    {
     "output_type": "execute_result",
     "data": {
      "text/plain": [
       "'c:\\\\MyLibs\\\\Dubrovnik\\\\dubScripts'"
      ]
     },
     "metadata": {},
     "execution_count": 1
    }
   ],
   "metadata": {}
  },
  {
   "cell_type": "code",
   "execution_count": 2,
   "source": [
    "# datafile = r'C:\\MyLibs\\Dubrovnik\\dubScripts\\Tesla_batteries.txt'\r\n",
    "# datafile = r'C:\\MyLibs\\Dubrovnik\\dubScripts\\Tesla_batteries_read_from_flash.hex'\r\n",
    "datafile = r'Tesla.txt'\r\n",
    "with open(datafile, 'r') as fh:\r\n",
    "    data_array = fh.read()\r\n",
    "# print(data_array)"
   ],
   "outputs": [],
   "metadata": {}
  },
  {
   "cell_type": "code",
   "execution_count": 3,
   "source": [
    "# bindata = data_array.encode()\r\n",
    "bindata = bytes(data_array, 'utf-8')\r\n",
    "print(type(bindata)) "
   ],
   "outputs": [
    {
     "output_type": "stream",
     "name": "stdout",
     "text": [
      "<class 'bytes'>\n"
     ]
    }
   ],
   "metadata": {}
  },
  {
   "cell_type": "code",
   "execution_count": 4,
   "source": [
    "# text = bytearray(b'abcdefgh')\r\n",
    "binfilename = r'Tesla.bin'\r\n",
    "with open(binfilename, 'wb') as fh:\r\n",
    "    fh.write(bindata)"
   ],
   "outputs": [],
   "metadata": {}
  },
  {
   "cell_type": "code",
   "execution_count": 3,
   "source": [
    "datafile = r'C:\\MyLibs\\Dubrovnik\\dubScripts\\a_bin_file.bin'\r\n",
    "\r\n",
    "with open(datafile, 'rb') as fh:\r\n",
    "    df = fh.read()\r\n",
    "print(df)"
   ],
   "outputs": [
    {
     "output_type": "stream",
     "name": "stdout",
     "text": [
      "b'Unplugged Performance\\'s \"Dark Helmet,\" driven by Randy Pobst, clocked 1:28.213!\\nUnplugged Performance announced that its race-modified Tesla Model S Plaid, which won the Exhibition class of the 2021 Pikes Peak International Hill Climb race (see video), just set another EV track record at the Laguna Seca race track.\\n\\nRandy Pobst managed to achieve a time of 1:28.213, during the TeslaCorsa 16 event on August 1, 2021.\\n\\nThat\\'s noticeably better than the previous unofficial best of 1:29.9 (Tesla\\'s internal testing), reported on May, 1:30.3 time from September 2020 and 1:36.55 in September 2019 (prototype).\\n\\nAccording to the FastestLaps\\' list of fastest official lap times (not yet updated as of the time of publishing), the Tesla Model S Plaid is one of the fastest production cars at the track:\\n\\nMcLaren Senna (P15) (Randy Pobst) - 1:27.62\\nTesla Model S Plaid race-modified (Randy Pobst) - 1:28.213\\nPorsche 911 GT2 RS (991) (Randy Pobst) - 1:28.30\\nTesla Model S Plaid (Tesla tests) - 1:29.9 / 1:30.3.\\nThe Plaid version is equipped with three electric motors (one motor in the front and two motors in the rear) for a total system output of 1,020 hp (about 760 kW).\\n\\nThe top of the line Lucid Air prototype noted a time of 1:31.3 in September 2020.\\n\\nThe Tesla Model S Plaid is a truly amazing electric car as it basically offers a supercar\\'s level of performance while maintaining the versatility of a normal car (five seats, spacious, long range, big trunk and additional front trunk).\\n\\nThe version used at the track is noticeably modified, but even the production car is very fast. Moreover, as the technology improves, with more energy-dense batteries and lower weight, electric cars will be better and better. The production Plaid is already noticeably lighter - by 163 lbs (74 kg) - than the previous top-of-the-line version.'\n"
     ]
    }
   ],
   "metadata": {}
  },
  {
   "cell_type": "code",
   "execution_count": null,
   "source": [
    "block_size = 4\r\n",
    "start_addr = 0xfff + 0x1001\r\n",
    "blockSizeKB = block_size * 1024\r\n",
    "# startAddr = start_addr & blockSizeKB\r\n",
    "startAddr = (start_addr // blockSizeKB) * blockSizeKB\r\n",
    "print(hex(startAddr))"
   ],
   "outputs": [],
   "metadata": {}
  },
  {
   "cell_type": "code",
   "execution_count": 1,
   "source": [
    "import numpy as np\r\n",
    "import matplotlib.pyplot as plt\r\n",
    "#%matplotlib auto\r\n",
    "\r\n",
    "x = np.array([1.2, 1.8, 2.2, 2.8, 3.2])\r\n",
    "y = np.array([8, 17, 24, 32, 38])\r\n",
    "\r\n",
    "fig = plt.figure(figsize=(8,6))\r\n",
    "ax1 = fig.add_axes([0.1,0.1,.9,.9])\r\n",
    "ax1.set_xlabel('Power Supply Voltage [V]', fontsize=12)\r\n",
    "ax1.set_ylabel('INA230 Bias Current [$\\mu$A]', fontsize=12)\r\n",
    "ax1.set_title('INA230 Bias Current as function of VCC_ADJ')\r\n",
    "ax1.set_xlim([1,3.5])\r\n",
    "ax1.set_ylim([0,40])\r\n",
    "ax1.plot(x,y)\r\n",
    "ax1.grid(True)"
   ],
   "outputs": [
    {
     "output_type": "display_data",
     "data": {
      "text/plain": [
       "<Figure size 576x432 with 1 Axes>"
      ],
      "image/png": "[encoded data removed]"
     },
     "metadata": {
      "needs_background": "light"
     }
    }
   ],
   "metadata": {}
  },
  {
   "cell_type": "code",
   "execution_count": 18,
   "source": [
    "vmax = 81.9175\r\n",
    "vmin = -81.92\r\n",
    "vtot = vmax - vmin\r\n",
    "print(vtot)\r\n",
    "vlsb = vtot / 2**16\r\n",
    "print(vlsb)\r\n",
    "tmin = -40\r\n",
    "troom = 25\r\n",
    "tmax = 125\r\n",
    "ppm = 50e-6\r\n",
    "\r\n",
    "error_min = vlsb * ppm*tmin\r\n",
    "error_typ = vlsb * ppm*troom\r\n",
    "error_max = vlsb * ppm*tmax\r\n",
    "print(f'delta_i (-40C) = {error_min:.1e}')\r\n",
    "print(f'delta_i (25C)  = {error_typ:.1e}')\r\n",
    "print(f'delta_i (125C) = {error_max:.1e}')"
   ],
   "outputs": [
    {
     "output_type": "stream",
     "name": "stdout",
     "text": [
      "163.8375\n",
      "0.002499961853027344\n",
      "delta_i (-40C) = -1.0e-06\n",
      "delta_i (25C)  = 6.2e-07\n",
      "delta_i (125C) = 3.1e-06\n"
     ]
    }
   ],
   "metadata": {}
  },
  {
   "cell_type": "code",
   "execution_count": 7,
   "source": [
    "wt = '60123123 us = at25sf'\r\n"
   ],
   "outputs": [
    {
     "output_type": "execute_result",
     "data": {
      "text/plain": [
       "['__add__',\n",
       " '__class__',\n",
       " '__contains__',\n",
       " '__delattr__',\n",
       " '__dir__',\n",
       " '__doc__',\n",
       " '__eq__',\n",
       " '__format__',\n",
       " '__ge__',\n",
       " '__getattribute__',\n",
       " '__getitem__',\n",
       " '__getnewargs__',\n",
       " '__gt__',\n",
       " '__hash__',\n",
       " '__init__',\n",
       " '__init_subclass__',\n",
       " '__iter__',\n",
       " '__le__',\n",
       " '__len__',\n",
       " '__lt__',\n",
       " '__mod__',\n",
       " '__mul__',\n",
       " '__ne__',\n",
       " '__new__',\n",
       " '__reduce__',\n",
       " '__reduce_ex__',\n",
       " '__repr__',\n",
       " '__rmod__',\n",
       " '__rmul__',\n",
       " '__setattr__',\n",
       " '__sizeof__',\n",
       " '__str__',\n",
       " '__subclasshook__',\n",
       " 'capitalize',\n",
       " 'casefold',\n",
       " 'center',\n",
       " 'count',\n",
       " 'encode',\n",
       " 'endswith',\n",
       " 'expandtabs',\n",
       " 'find',\n",
       " 'format',\n",
       " 'format_map',\n",
       " 'index',\n",
       " 'isalnum',\n",
       " 'isalpha',\n",
       " 'isascii',\n",
       " 'isdecimal',\n",
       " 'isdigit',\n",
       " 'isidentifier',\n",
       " 'islower',\n",
       " 'isnumeric',\n",
       " 'isprintable',\n",
       " 'isspace',\n",
       " 'istitle',\n",
       " 'isupper',\n",
       " 'join',\n",
       " 'ljust',\n",
       " 'lower',\n",
       " 'lstrip',\n",
       " 'maketrans',\n",
       " 'partition',\n",
       " 'removeprefix',\n",
       " 'removesuffix',\n",
       " 'replace',\n",
       " 'rfind',\n",
       " 'rindex',\n",
       " 'rjust',\n",
       " 'rpartition',\n",
       " 'rsplit',\n",
       " 'rstrip',\n",
       " 'split',\n",
       " 'splitlines',\n",
       " 'startswith',\n",
       " 'strip',\n",
       " 'swapcase',\n",
       " 'title',\n",
       " 'translate',\n",
       " 'upper',\n",
       " 'zfill']"
      ]
     },
     "metadata": {},
     "execution_count": 7
    }
   ],
   "metadata": {}
  },
  {
   "cell_type": "code",
   "execution_count": 14,
   "source": [
    "wt = 'Part#               = AT25SF641'\r\n",
    "wt.split('=')[1].strip()"
   ],
   "outputs": [
    {
     "output_type": "execute_result",
     "data": {
      "text/plain": [
       "'AT25SF641'"
      ]
     },
     "metadata": {},
     "execution_count": 14
    }
   ],
   "metadata": {}
  },
  {
   "cell_type": "code",
   "execution_count": 15,
   "source": [
    "confstr = ['Part#               = AT25SF641', 'Voltage             = 2.995', 'Frequency           = 60.00', 'Mode                = SPI', 'Dummy Cycle Count   = 4', 'Host Drive Strength = 6', 'PMON configuration:', 'avg                = 1', 'vst (us)           = 8244', 'vbt (us)           = 1100', 'mode               = sbc', 'meas               = i', 'min meas time (us) = 9344']"
   ],
   "outputs": [],
   "metadata": {}
  },
  {
   "cell_type": "code",
   "execution_count": 29,
   "source": [
    "d_config = {}\r\n",
    "type(confstr)\r\n",
    "for item in confstr:\r\n",
    "    print(item)\r\n",
    "    conf = item.split('=')\r\n",
    "    # print(conf)\r\n",
    "    key = conf[0].strip()\r\n",
    "    if 'PMON conf' in key:\r\n",
    "        continue # skip \"PMON configuration\" subtitle\r\n",
    "    val = conf[1].strip()\r\n",
    "    print(f'key: {key}, value: {val}')\r\n",
    "    d_config[key] = val\r\n",
    "print(d_config)\r\n",
    "\r\n"
   ],
   "outputs": [
    {
     "output_type": "stream",
     "name": "stdout",
     "text": [
      "Part#               = AT25SF641\n",
      "key: Part#, value: AT25SF641\n",
      "Voltage             = 2.995\n",
      "key: Voltage, value: 2.995\n",
      "Frequency           = 60.00\n",
      "key: Frequency, value: 60.00\n",
      "Mode                = SPI\n",
      "key: Mode, value: SPI\n",
      "Dummy Cycle Count   = 4\n",
      "key: Dummy Cycle Count, value: 4\n",
      "Host Drive Strength = 6\n",
      "key: Host Drive Strength, value: 6\n",
      "PMON configuration:\n",
      "caught PMON conf\n",
      "avg                = 1\n",
      "key: avg, value: 1\n",
      "vst (us)           = 8244\n",
      "key: vst (us), value: 8244\n",
      "vbt (us)           = 1100\n",
      "key: vbt (us), value: 1100\n",
      "mode               = sbc\n",
      "key: mode, value: sbc\n",
      "meas               = i\n",
      "key: meas, value: i\n",
      "min meas time (us) = 9344\n",
      "key: min meas time (us), value: 9344\n",
      "{'Part#': 'AT25SF641', 'Voltage': '2.995', 'Frequency': '60.00', 'Mode': 'SPI', 'Dummy Cycle Count': '4', 'Host Drive Strength': '6', 'avg': '1', 'vst (us)': '8244', 'vbt (us)': '1100', 'mode': 'sbc', 'meas': 'i', 'min meas time (us)': '9344'}\n"
     ]
    }
   ],
   "metadata": {}
  },
  {
   "cell_type": "code",
   "execution_count": 1,
   "source": [
    "# params = {'start_address': [0x0000, 0x4000, 0x8000, 0xc000, 0x10000],\r\n",
    "#                          'length': [0x4000,0x4000,0x4000,0x4000,0x4000],\r\n",
    "#                          'pattern': ['aaaaaaaa','00000000','ffffffff','f0f0f0f0','ff00ff00']}\r\n",
    "\r\n",
    "# for key in params.values():\r\n",
    "#     print(key)\r\n",
    "#     for value in key:\r\n",
    "#         print(value)\r\n",
    "\r\n"
   ],
   "outputs": [],
   "metadata": {}
  },
  {
   "cell_type": "code",
   "execution_count": 7,
   "source": [
    "params = [[0x0000, 0x4000, 'aaaaaaaa'],\r\n",
    "          [0x4000, 0x4000, '00000000'],\r\n",
    "          [0x8000, 0x4000, 'ffffffff'],\r\n",
    "          [0xc000, 0x4000, 'f0f0f0f0'],\r\n",
    "          [0x10000, 0x4000, 'ff00ff00']]\r\n",
    "\r\n",
    "for param in params:\r\n",
    "    print(param)\r\n",
    "    p1 = param[0]\r\n",
    "    p2 = param[1]\r\n",
    "    p3 = param[2]\r\n",
    "    print(p1,p2,p3)\r\n",
    "    # for value in key:\r\n",
    "    #     print(value)\r\n"
   ],
   "outputs": [
    {
     "output_type": "stream",
     "name": "stdout",
     "text": [
      "[0, 16384, 'aaaaaaaa']\n",
      "<class 'int'> 16384 <class 'str'>\n",
      "[16384, 16384, '00000000']\n",
      "<class 'int'> 16384 <class 'str'>\n",
      "[32768, 16384, 'ffffffff']\n",
      "<class 'int'> 16384 <class 'str'>\n",
      "[49152, 16384, 'f0f0f0f0']\n",
      "<class 'int'> 16384 <class 'str'>\n",
      "[65536, 16384, 'ff00ff00']\n",
      "<class 'int'> 16384 <class 'str'>\n"
     ]
    }
   ],
   "metadata": {}
  },
  {
   "cell_type": "code",
   "execution_count": 15,
   "source": [
    "def time_unit_conversion(elapsed_time):\r\n",
    "    t_wait = float(elapsed_time.split(' ')[0])\r\n",
    "    if t_wait < 1e3:\r\n",
    "        wait_time = f'{t_wait} us'\r\n",
    "    elif t_wait >= 1e3 and t_wait < 1e6:\r\n",
    "        wait_time = f'{t_wait/1e3:.3f} ms'\r\n",
    "    else:\r\n",
    "        wait_time = f'{t_wait/1e6:.3f} sec'\r\n",
    "    return wait_time"
   ],
   "outputs": [],
   "metadata": {}
  },
  {
   "cell_type": "code",
   "execution_count": 17,
   "source": [
    "time_unit_conversion('12345678 us')"
   ],
   "outputs": [
    {
     "output_type": "execute_result",
     "data": {
      "text/plain": [
       "'12.346 sec'"
      ]
     },
     "metadata": {},
     "execution_count": 17
    }
   ],
   "metadata": {}
  },
  {
   "cell_type": "code",
   "execution_count": 2,
   "source": [
    "import tkinter as tk\r\n",
    "\r\n",
    "class ExampleApp(tk.Tk):\r\n",
    "    def __init__(self):\r\n",
    "        tk.Tk.__init__(self)\r\n",
    "        self.label = tk.Label(self, text=\"\", width=10)\r\n",
    "        self.label.pack()\r\n",
    "        self.remaining = 0\r\n",
    "        self.countdown(10)\r\n",
    "\r\n",
    "    def countdown(self, remaining = None):\r\n",
    "        if remaining is not None:\r\n",
    "            self.remaining = remaining\r\n",
    "\r\n",
    "        if self.remaining <= 0:\r\n",
    "            self.label.configure(text=\"time's up!\")\r\n",
    "        else:\r\n",
    "            self.label.configure(text=\"%d\" % self.remaining)\r\n",
    "            self.remaining = self.remaining - 1\r\n",
    "            self.after(1000, self.countdown)\r\n",
    "\r\n",
    "if __name__ == \"__main__\":\r\n",
    "    app = ExampleApp()\r\n",
    "    app.mainloop()"
   ],
   "outputs": [],
   "metadata": {}
  },
  {
   "cell_type": "code",
   "execution_count": 11,
   "source": [
    "from tkinter import *\r\n",
    "import time\r\n",
    "\r\n",
    "root = Tk()\r\n",
    "\r\n",
    "def clock():\r\n",
    "    # https://www.tutorialspoint.com/python/time_strftime.htm\r\n",
    "    # hour = time.strftime(\"%H\")\r\n",
    "    hour = time.strftime(\"%I\")\r\n",
    "    minute = time.strftime(\"%M\")\r\n",
    "    second = time.strftime(\"%S\")\r\n",
    "    day = time.strftime(\"%A\")\r\n",
    "    am_pm = time.strftime(\"%p\")\r\n",
    "    time_zone = time.strftime(\"%Z\")\r\n",
    "    # time_zone = time.strftime(\"%z\")\r\n",
    "\r\n",
    "    my_label2.config(text=f'{day} {time_zone}')\r\n",
    "\r\n",
    "    my_label.config(text=f'{hour}:{minute}:{second} {am_pm}')\r\n",
    "    my_label.after(1000, clock)\r\n",
    "\r\n",
    "# def update():\r\n",
    "#     my_label.config(text=\"New Text\")\r\n",
    "\r\n",
    "my_label = Label(root, text=\"\", font=('Helvetica', 48), fg='green', bg='black')\r\n",
    "my_label.pack(pady=20)\r\n",
    "\r\n",
    "my_label2 = Label(root, text=\"\", font=('Helvetica', 14))\r\n",
    "my_label2.pack(pady=10)\r\n",
    "\r\n",
    "clock()\r\n",
    "\r\n",
    "root.mainloop()\r\n",
    "    "
   ],
   "outputs": [],
   "metadata": {}
  },
  {
   "cell_type": "code",
   "execution_count": null,
   "source": [],
   "outputs": [],
   "metadata": {}
  }
 ],
 "metadata": {
  "orig_nbformat": 4,
  "language_info": {
   "name": "python",
   "version": "3.9.2",
   "mimetype": "text/x-python",
   "codemirror_mode": {
    "name": "ipython",
    "version": 3
   },
   "pygments_lexer": "ipython3",
   "nbconvert_exporter": "python",
   "file_extension": ".py"
  },
  "kernelspec": {
   "name": "python3",
   "display_name": "Python 3.9.2 64-bit"
  },
  "interpreter": {
   "hash": "51ca2baa0497ed4a60fac6ed525d3f8063d91dfd8e083f58be1f47d06b6e7edc"
  }
 },
 "nbformat": 4,
 "nbformat_minor": 2
}