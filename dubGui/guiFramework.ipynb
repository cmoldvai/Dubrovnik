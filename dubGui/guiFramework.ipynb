{
 "cells": [
  {
   "cell_type": "code",
   "execution_count": 21,
   "source": [
    "from tkinter import *\r\n",
    "\r\n",
    "class MainWindow:\r\n",
    "\r\n",
    "    def __init__(self, parent):  # parent or master are good names\r\n",
    "        frame = Frame(parent)    # want to put in into main window (master)\r\n",
    "        frame.pack()\r\n",
    "\r\n",
    "        self.printButton = Button(frame, text='Print Message', command=self.printMessage)\r\n",
    "        self.printButton.pack(side=LEFT)\r\n",
    "\r\n",
    "        self.quitButton = Button(frame, text='Quit', command=frame.quit)\r\n",
    "        self.quitButton.pack(side=LEFT)\r\n",
    "\r\n",
    "    def printMessage(self):\r\n",
    "        print(\"Wow! It worked :)\")\r\n",
    "    \r\n",
    "root = Tk()\r\n",
    "window = MainWindow(root)\r\n",
    "root.title('My GUI')\r\n",
    "# root.iconbitmap('c:/gui/codemy.ico')\r\n",
    "# root.geometry('300x150')\r\n",
    "\r\n",
    "root.mainloop()"
   ],
   "outputs": [
    {
     "output_type": "stream",
     "name": "stdout",
     "text": [
      "Wow! It worked :)\n"
     ]
    }
   ],
   "metadata": {}
  }
 ],
 "metadata": {
  "orig_nbformat": 4,
  "language_info": {
   "name": "python",
   "version": "3.9.2",
   "mimetype": "text/x-python",
   "codemirror_mode": {
    "name": "ipython",
    "version": 3
   },
   "pygments_lexer": "ipython3",
   "nbconvert_exporter": "python",
   "file_extension": ".py"
  },
  "kernelspec": {
   "name": "python3",
   "display_name": "Python 3.9.2 64-bit"
  },
  "interpreter": {
   "hash": "51ca2baa0497ed4a60fac6ed525d3f8063d91dfd8e083f58be1f47d06b6e7edc"
  }
 },
 "nbformat": 4,
 "nbformat_minor": 2
}