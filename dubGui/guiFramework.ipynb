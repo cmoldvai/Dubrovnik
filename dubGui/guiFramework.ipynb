{
 "cells": [
  {
   "cell_type": "code",
   "execution_count": 4,
   "source": [
    "# DON'T touch it!!! It works.\r\n",
    "from tkinter import *\r\n",
    "\r\n",
    "class MainWindow:\r\n",
    "\r\n",
    "    def __init__(self, parent):  # parent or master are good names\r\n",
    "        win = Frame(parent)    # want to put in into main window (master)\r\n",
    "        win.pack()\r\n",
    "\r\n",
    "        self.printButton = Button(win, text='Print Message', command=self.printMessage)\r\n",
    "        self.printButton.pack(side=LEFT)\r\n",
    "\r\n",
    "        self.quitButton = Button(win, text='Quit', command=win.quit)\r\n",
    "        self.quitButton.pack(side=LEFT)\r\n",
    "\r\n",
    "    def printMessage(self):\r\n",
    "        print(\"Wow! It worked :)\")\r\n",
    "    \r\n",
    "root = Tk()\r\n",
    "window = MainWindow(root)\r\n",
    "root.title('My GUI')\r\n",
    "# root.iconbitmap('c:/gui/codemy.ico')\r\n",
    "# root.geometry('300x150')\r\n",
    "\r\n",
    "root.mainloop()"
   ],
   "outputs": [],
   "metadata": {}
  },
  {
   "cell_type": "code",
   "execution_count": 3,
   "source": [
    "from tkinter import *\r\n",
    "\r\n",
    "class MainWindow:\r\n",
    "\r\n",
    "    def __init__(self, parent):  # parent or master are good names\r\n",
    "        win = Frame(parent)    # want to put in into main window (master)\r\n",
    "        win.pack()\r\n",
    "\r\n",
    "        serComFrm = SerComFrame(self, win)\r\n",
    "        self.printButton = Button(win, text='Print Message', command=self.printMessage)\r\n",
    "        self.printButton.pack(side=LEFT)\r\n",
    "\r\n",
    "        self.quitButton = Button(win, text='Quit', command=win.quit)\r\n",
    "        self.quitButton.pack(side=LEFT)\r\n",
    "\r\n",
    "    def printMessage(self):\r\n",
    "        print(\"Wow! It worked :)\")\r\n",
    "\r\n",
    "class serCom(Frame):\r\n",
    "    def __init__(self, parent=MainWindow):\r\n",
    "        \r\n",
    "\r\n",
    "root = Tk()\r\n",
    "window = MainWindow(root)\r\n",
    "root.title('My GUI')\r\n",
    "# root.iconbitmap('c:/gui/codemy.ico')\r\n",
    "# root.geometry('300x150')\r\n",
    "\r\n",
    "root.mainloop()"
   ],
   "outputs": [],
   "metadata": {}
  },
  {
   "cell_type": "code",
   "execution_count": 2,
   "source": [
    "#Importing the tkinter library\r\n",
    "from tkinter import *\r\n",
    "win= Tk()\r\n",
    "win.title(\"Dynamically Resize Buttons\")\r\n",
    "win.geometry(\"700x500\")\r\n",
    "\r\n",
    "#Configure Rows and column\r\n",
    "\r\n",
    "Grid.rowconfigure(win, 0,weight=1)\r\n",
    "Grid.columnconfigure(win,0,weight=1)\r\n",
    "#Create buttons\r\n",
    "\r\n",
    "b1= Button(win, text= \"C++\")\r\n",
    "b2= Button(win, text= \"Java\")\r\n",
    "\r\n",
    "#Create List of buttons\r\n",
    "bl= [b1, b2]\r\n",
    "\r\n",
    "row_no=0\r\n",
    "#Loop through all the buttons and configure it row-wise\r\n",
    "for button in bl:\r\n",
    "   Grid.rowconfigure(win,row_no, weight=1)\r\n",
    "   row_no+=1\r\n",
    "\r\n",
    "#Adjust the position in grid and make them sticky\r\n",
    "\r\n",
    "b1.grid(row=0, column=0, sticky= \"nsew\")\r\n",
    "b2.grid(row=1, column=0, stick= \"nsew\")\r\n",
    "\r\n",
    "win.mainloop()"
   ],
   "outputs": [],
   "metadata": {}
  }
 ],
 "metadata": {
  "orig_nbformat": 4,
  "language_info": {
   "name": "python",
   "version": "3.9.2",
   "mimetype": "text/x-python",
   "codemirror_mode": {
    "name": "ipython",
    "version": 3
   },
   "pygments_lexer": "ipython3",
   "nbconvert_exporter": "python",
   "file_extension": ".py"
  },
  "kernelspec": {
   "name": "python3",
   "display_name": "Python 3.9.2 64-bit"
  },
  "interpreter": {
   "hash": "51ca2baa0497ed4a60fac6ed525d3f8063d91dfd8e083f58be1f47d06b6e7edc"
  }
 },
 "nbformat": 4,
 "nbformat_minor": 2
}