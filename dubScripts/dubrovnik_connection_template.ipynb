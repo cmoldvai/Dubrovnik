{
 "metadata": {
  "language_info": {
   "codemirror_mode": {
    "name": "ipython",
    "version": 3
   },
   "file_extension": ".py",
   "mimetype": "text/x-python",
   "name": "python",
   "nbconvert_exporter": "python",
   "pygments_lexer": "ipython3",
   "version": "3.9.2"
  },
  "orig_nbformat": 2,
  "kernelspec": {
   "name": "python3",
   "display_name": "Python 3.9.2 64-bit"
  },
  "interpreter": {
   "hash": "51ca2baa0497ed4a60fac6ed525d3f8063d91dfd8e083f58be1f47d06b6e7edc"
  }
 },
 "nbformat": 4,
 "nbformat_minor": 2,
 "cells": [
  {
   "cell_type": "code",
   "execution_count": 17,
   "source": [
    "import os\r\n",
    "import sys\r\n",
    "import time\r\n",
    "from dubLibs import boardcom\r\n",
    "from dubLibs import dubrovnik as du\r\n",
    "\r\n",
    "# os.system('cls')  # clear terminal screen\r\n",
    "# print(sys.path)\r\n",
    "os.chdir(r'c:\\MyLibs\\Dubrovnik\\dubScripts')\r\n",
    "# print(os.getcwd())\r\n",
    "\r\n",
    "comm = boardcom.BoardComm()   # create an instance of class BoardComm\r\n",
    "connectedPort = comm.find_and_connect(echo=1)"
   ],
   "outputs": [
    {
     "output_type": "stream",
     "name": "stdout",
     "text": [
      "['COM7']\n",
      "Connected to COM7...\n"
     ]
    }
   ],
   "metadata": {}
  },
  {
   "cell_type": "code",
   "execution_count": 22,
   "source": [
    "# du.get_part_number(comm)\r\n",
    "du.get_config(comm)\r\n"
   ],
   "outputs": [
    {
     "output_type": "execute_result",
     "data": {
      "text/plain": [
       "{'Part#': 'AT25SF641',\n",
       " 'Voltage': '3.153',\n",
       " 'Frequency': '8.25',\n",
       " 'Mode': 'SPI',\n",
       " 'Dummy Cycle Count': '4',\n",
       " 'Host Drive Strength': '6',\n",
       " 'avg': '1',\n",
       " 'vst (us)': '8244',\n",
       " 'vbt (us)': '1100',\n",
       " 'mode': 'sbc',\n",
       " 'meas': 'i',\n",
       " 'min meas time (us)': '9344'}"
      ]
     },
     "metadata": {},
     "execution_count": 22
    }
   ],
   "metadata": {}
  },
  {
   "cell_type": "code",
   "execution_count": 23,
   "source": [
    "# du.get_part_number(comm)\r\n",
    "cfg = du.get_config(comm)\r\n",
    "cfg['Part#']\r\n",
    "cfg['Voltage']\r\n",
    "cfg['Frequency']"
   ],
   "outputs": [
    {
     "output_type": "execute_result",
     "data": {
      "text/plain": [
       "'3.153'"
      ]
     },
     "metadata": {},
     "execution_count": 23
    }
   ],
   "metadata": {}
  },
  {
   "cell_type": "code",
   "execution_count": 7,
   "source": [
    "du.block_erase(comm, block_size=4, start_addr=0, echo=1)\r\n",
    "du.read(comm, opcode='b', staddr=0, length=200, echo=1)"
   ],
   "outputs": [
    {
     "output_type": "stream",
     "name": "stdout",
     "text": [
      "06; d8 0; wait 0\n",
      ">>>\n",
      " b 0 c8\n",
      "ff ff ff ff ff ff ff ff ff ff ff ff ff ff ff ff ff ff ff ff ff ff ff ff ff ff ff ff ff ff ff ff \n",
      "ff ff ff ff ff ff ff ff ff ff ff ff ff ff ff ff ff ff ff ff ff ff ff ff ff ff ff ff ff ff ff ff \n",
      "ff ff ff ff ff ff ff ff ff ff ff ff ff ff ff ff ff ff ff ff ff ff ff ff ff ff ff ff ff ff ff ff \n",
      "ff ff ff ff ff ff ff ff ff ff ff ff ff ff ff ff ff ff ff ff ff ff ff ff ff ff ff ff ff ff ff ff \n",
      "ff ff ff ff ff ff ff ff ff ff ff ff ff ff ff ff ff ff ff ff ff ff ff ff ff ff ff ff ff ff ff ff \n",
      "ff ff ff ff ff ff ff ff ff ff ff ff ff ff ff ff ff ff ff ff ff ff ff ff ff ff ff ff ff ff ff ff \n",
      "ff ff ff ff ff ff ff ff \n",
      ">>>\n"
     ]
    }
   ],
   "metadata": {}
  },
  {
   "cell_type": "code",
   "execution_count": 13,
   "source": [
    "opcode = 'b'\r\n",
    "staddr = 4000\r\n",
    "nbyte = 0x100\r\n",
    "cmdstr = f'{opcode} {staddr:x} {nbyte:x}'\r\n",
    "print(cmdstr)"
   ],
   "outputs": [
    {
     "output_type": "stream",
     "name": "stdout",
     "text": [
      "b fa0 100\n"
     ]
    }
   ],
   "metadata": {}
  },
  {
   "cell_type": "code",
   "execution_count": 16,
   "source": [
    "# ***********************************\r\n",
    "# ***** Disconnect, Delete Port *****\r\n",
    "# ***********************************\r\n",
    "comm.disconnect(connectedPort, echo=1)\r\n"
   ],
   "outputs": [
    {
     "output_type": "stream",
     "name": "stdout",
     "text": [
      "\n",
      "Disconnected from COM7...\n"
     ]
    }
   ],
   "metadata": {}
  },
  {
   "cell_type": "code",
   "execution_count": null,
   "source": [],
   "outputs": [],
   "metadata": {}
  }
 ]
}