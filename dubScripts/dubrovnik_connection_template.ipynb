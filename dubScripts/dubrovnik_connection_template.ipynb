{
 "metadata": {
  "language_info": {
   "codemirror_mode": {
    "name": "ipython",
    "version": 3
   },
   "file_extension": ".py",
   "mimetype": "text/x-python",
   "name": "python",
   "nbconvert_exporter": "python",
   "pygments_lexer": "ipython3",
   "version": "3.9.2"
  },
  "orig_nbformat": 2,
  "kernelspec": {
   "name": "python3",
   "display_name": "Python 3.9.2 64-bit"
  },
  "interpreter": {
   "hash": "51ca2baa0497ed4a60fac6ed525d3f8063d91dfd8e083f58be1f47d06b6e7edc"
  }
 },
 "nbformat": 4,
 "nbformat_minor": 2,
 "cells": [
  {
   "cell_type": "code",
   "execution_count": 2,
   "source": [
    "import os\r\n",
    "import sys\r\n",
    "import time\r\n",
    "from dubLibs import boardcom\r\n",
    "from dubLibs import dubrovnik\r\n",
    "\r\n",
    "# os.system('cls')  # clear terminal screen\r\n",
    "# print(sys.path)\r\n",
    "os.chdir(r'c:\\MyLibs\\Dubrovnik\\dubScripts')\r\n",
    "# print(os.getcwd())\r\n",
    "\r\n",
    "comm = boardcom.BoardComm()   # create an instance of class BoardComm\r\n",
    "connectedPort = comm.find_and_connect(echo=1)\r\n",
    "du = dubrovnik.Dubrovnik()"
   ],
   "outputs": [
    {
     "output_type": "stream",
     "name": "stdout",
     "text": [
      "['COM7']\n",
      "Connected to COM7...\n"
     ]
    }
   ],
   "metadata": {}
  },
  {
   "cell_type": "code",
   "execution_count": 3,
   "source": [
    "# du.read(comm, 0, 0x400, echo=1, dispmode=\r\n"
   ],
   "outputs": [
    {
     "output_type": "stream",
     "name": "stdout",
     "text": [
      "<class 'dubLibs.dubrovnik.Dubrovnik'>\n"
     ]
    }
   ],
   "metadata": {}
  },
  {
   "cell_type": "code",
   "execution_count": 5,
   "source": [
    "comm.send('b 0 80; wait 0')\r\n",
    "comm.response(removeCmd=False, removePrompt=False, returnAsList=True)\r\n",
    "# comm.send('dvar wait_time')\r\n"
   ],
   "outputs": [
    {
     "output_type": "execute_result",
     "data": {
      "text/plain": [
       "['b 0 80; wait 0',\n",
       " 'ff ff ff ff ff ff ff ff ff ff ff ff ff ff ff ff ff ff ff ff ff ff ff ff ff ff ff ff ff ff ff ff ',\n",
       " 'ff ff ff ff ff ff ff ff ff ff ff ff ff ff ff ff ff ff ff ff ff ff ff ff ff ff ff ff ff ff ff ff ',\n",
       " 'ff ff ff ff ff ff ff ff ff ff ff ff ff ff ff ff ff ff ff ff ff ff ff ff ff ff ff ff ff ff ff ff ',\n",
       " 'ff ff ff ff ff ff ff ff ff ff ff ff ff ff ff ff ff ff ff ff ff ff ff ff ff ff ff ff ff ff ff ff ',\n",
       " '>>>']"
      ]
     },
     "metadata": {},
     "execution_count": 5
    }
   ],
   "metadata": {}
  },
  {
   "cell_type": "code",
   "execution_count": 8,
   "source": [
    "du.page_program(comm, start_addr=0, length=200)"
   ],
   "outputs": [
    {
     "output_type": "execute_result",
     "data": {
      "text/plain": [
       "112"
      ]
     },
     "metadata": {},
     "execution_count": 8
    }
   ],
   "metadata": {}
  },
  {
   "cell_type": "code",
   "execution_count": 9,
   "source": [
    "comm.response(removeCmd=False, removePrompt=False, returnAsList=True)"
   ],
   "outputs": [
    {
     "output_type": "execute_result",
     "data": {
      "text/plain": [
       "['dvar wait_time', '112 us', '>>>']"
      ]
     },
     "metadata": {},
     "execution_count": 9
    }
   ],
   "metadata": {}
  },
  {
   "cell_type": "code",
   "execution_count": 30,
   "source": [
    "twait = du.block_erase(comm, block_size='chip')\r\n",
    "print(twait)\r\n",
    "print(du.time_conv_from_usec(twait))\r\n"
   ],
   "outputs": [
    {
     "output_type": "stream",
     "name": "stdout",
     "text": [
      "Chip Erase in progress...\n",
      "Done.\n",
      "0\n",
      "0 us\n"
     ]
    }
   ],
   "metadata": {}
  },
  {
   "cell_type": "code",
   "execution_count": 32,
   "source": [
    "du.page_program(comm)\r\n",
    "du.textToDisplay\r\n"
   ],
   "outputs": [
    {
     "output_type": "execute_result",
     "data": {
      "text/plain": [
       "'abc'"
      ]
     },
     "metadata": {},
     "execution_count": 32
    }
   ],
   "metadata": {}
  },
  {
   "cell_type": "code",
   "execution_count": 47,
   "source": [
    "comm.responselines()\r\n"
   ],
   "outputs": [
    {
     "output_type": "execute_result",
     "data": {
      "text/plain": [
       "['b 0 80; wait 0',\n",
       " '00 00 00 00 00 00 00 00 00 00 00 00 00 00 00 00 00 00 00 00 00 00 00 00 00 00 00 00 00 00 00 00',\n",
       " '00 00 00 00 00 00 00 00 72 69 76 65 6e 20 62 79 20 52 61 6e 64 79 20 50 6f 62 73 74 2c 20 63 6c',\n",
       " '6f 63 6b 65 64 20 31 3a 32 38 2e 32 31 33 21 0a 55 6e 70 6c 75 67 67 65 64 20 50 65 72 66 6f 72',\n",
       " '6d 61 6e 63 65 20 61 6e 6e 6f 75 6e 63 65 64 20 74 68 61 74 20 69 74 73 20 72 61 63 65 2d 6d 6f']"
      ]
     },
     "metadata": {},
     "execution_count": 47
    }
   ],
   "metadata": {}
  },
  {
   "cell_type": "code",
   "execution_count": 41,
   "source": [],
   "outputs": [],
   "metadata": {}
  },
  {
   "cell_type": "code",
   "execution_count": 40,
   "source": [
    "comm.responselines()"
   ],
   "outputs": [
    {
     "output_type": "execute_result",
     "data": {
      "text/plain": [
       "['dvar wait_time', '110 us']"
      ]
     },
     "metadata": {},
     "execution_count": 40
    }
   ],
   "metadata": {}
  },
  {
   "cell_type": "code",
   "execution_count": 2,
   "source": [
    "# du.get_part_number(comm)\r\n",
    "du.get_config(comm)\r\n"
   ],
   "outputs": [
    {
     "output_type": "execute_result",
     "data": {
      "text/plain": [
       "{'Part#': 'AT25SF641',\n",
       " 'Voltage': '3.153',\n",
       " 'Frequency': '60.00',\n",
       " 'Mode': 'SPI',\n",
       " 'Dummy Cycle Count': '4',\n",
       " 'Host Drive Strength': '6',\n",
       " 'avg': '1',\n",
       " 'vst (us)': '8244',\n",
       " 'vbt (us)': '1100',\n",
       " 'mode': 'sbc',\n",
       " 'meas': 'i',\n",
       " 'min meas time (us)': '9344'}"
      ]
     },
     "metadata": {},
     "execution_count": 2
    }
   ],
   "metadata": {}
  },
  {
   "cell_type": "code",
   "execution_count": 23,
   "source": [
    "# du.get_part_number(comm)\r\n",
    "cfg = du.get_config(comm)\r\n",
    "cfg['Part#']\r\n",
    "cfg['Voltage']\r\n",
    "cfg['Frequency']"
   ],
   "outputs": [
    {
     "output_type": "execute_result",
     "data": {
      "text/plain": [
       "'3.153'"
      ]
     },
     "metadata": {},
     "execution_count": 23
    }
   ],
   "metadata": {}
  },
  {
   "cell_type": "code",
   "execution_count": 7,
   "source": [
    "du.block_erase(comm, block_size=4, start_addr=0, echo=1)\r\n",
    "du.read(comm, opcode='b', staddr=0, length=200, echo=1)"
   ],
   "outputs": [
    {
     "output_type": "stream",
     "name": "stdout",
     "text": [
      "06; d8 0; wait 0\n",
      ">>>\n",
      " b 0 c8\n",
      "ff ff ff ff ff ff ff ff ff ff ff ff ff ff ff ff ff ff ff ff ff ff ff ff ff ff ff ff ff ff ff ff \n",
      "ff ff ff ff ff ff ff ff ff ff ff ff ff ff ff ff ff ff ff ff ff ff ff ff ff ff ff ff ff ff ff ff \n",
      "ff ff ff ff ff ff ff ff ff ff ff ff ff ff ff ff ff ff ff ff ff ff ff ff ff ff ff ff ff ff ff ff \n",
      "ff ff ff ff ff ff ff ff ff ff ff ff ff ff ff ff ff ff ff ff ff ff ff ff ff ff ff ff ff ff ff ff \n",
      "ff ff ff ff ff ff ff ff ff ff ff ff ff ff ff ff ff ff ff ff ff ff ff ff ff ff ff ff ff ff ff ff \n",
      "ff ff ff ff ff ff ff ff ff ff ff ff ff ff ff ff ff ff ff ff ff ff ff ff ff ff ff ff ff ff ff ff \n",
      "ff ff ff ff ff ff ff ff \n",
      ">>>\n"
     ]
    }
   ],
   "metadata": {}
  },
  {
   "cell_type": "code",
   "execution_count": 13,
   "source": [
    "opcode = 'b'\r\n",
    "staddr = 4000\r\n",
    "nbyte = 0x100\r\n",
    "cmdstr = f'{opcode} {staddr:x} {nbyte:x}'\r\n",
    "print(cmdstr)"
   ],
   "outputs": [
    {
     "output_type": "stream",
     "name": "stdout",
     "text": [
      "b fa0 100\n"
     ]
    }
   ],
   "metadata": {}
  },
  {
   "cell_type": "code",
   "execution_count": 10,
   "source": [
    "# ***********************************\r\n",
    "# ***** Disconnect, Delete Port *****\r\n",
    "# ***********************************\r\n",
    "del comm\r\n",
    "del du\r\n",
    "comm.disconnect(connectedPort, echo=1)\r\n"
   ],
   "outputs": [
    {
     "output_type": "error",
     "ename": "NameError",
     "evalue": "name 'comm' is not defined",
     "traceback": [
      "\u001b[1;31m---------------------------------------------------------------------------\u001b[0m",
      "\u001b[1;31mNameError\u001b[0m                                 Traceback (most recent call last)",
      "\u001b[1;32m~\\AppData\\Local\\Temp/ipykernel_23724/450119215.py\u001b[0m in \u001b[0;36m<module>\u001b[1;34m\u001b[0m\n\u001b[0;32m      4\u001b[0m \u001b[1;32mdel\u001b[0m \u001b[0mcomm\u001b[0m\u001b[1;33m\u001b[0m\u001b[1;33m\u001b[0m\u001b[0m\n\u001b[0;32m      5\u001b[0m \u001b[1;32mdel\u001b[0m \u001b[0mdu\u001b[0m\u001b[1;33m\u001b[0m\u001b[1;33m\u001b[0m\u001b[0m\n\u001b[1;32m----> 6\u001b[1;33m \u001b[0mcomm\u001b[0m\u001b[1;33m.\u001b[0m\u001b[0mdisconnect\u001b[0m\u001b[1;33m(\u001b[0m\u001b[0mconnectedPort\u001b[0m\u001b[1;33m,\u001b[0m \u001b[0mecho\u001b[0m\u001b[1;33m=\u001b[0m\u001b[1;36m1\u001b[0m\u001b[1;33m)\u001b[0m\u001b[1;33m\u001b[0m\u001b[1;33m\u001b[0m\u001b[0m\n\u001b[0m",
      "\u001b[1;31mNameError\u001b[0m: name 'comm' is not defined"
     ]
    }
   ],
   "metadata": {}
  },
  {
   "cell_type": "code",
   "execution_count": 53,
   "source": [
    "def func(x):\r\n",
    "    if x:\r\n",
    "        return [5, 'hi', (1,2,3)]\r\n",
    "    else:\r\n",
    "        return 'Hello'\r\n",
    "\r\n",
    "print(func(True))"
   ],
   "outputs": [
    {
     "output_type": "stream",
     "name": "stdout",
     "text": [
      "[5, 'hi', (1, 2, 3)]\n"
     ]
    }
   ],
   "metadata": {}
  },
  {
   "cell_type": "code",
   "execution_count": null,
   "source": [],
   "outputs": [],
   "metadata": {}
  }
 ]
}