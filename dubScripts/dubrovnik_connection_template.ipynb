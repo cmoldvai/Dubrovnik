{
 "cells": [
  {
   "cell_type": "code",
   "execution_count": 2,
   "metadata": {},
   "outputs": [
    {
     "name": "stdout",
     "output_type": "stream",
     "text": [
      "['COM7']\n",
      "Connected to COM7...\n"
     ]
    }
   ],
   "source": [
    "import os\n",
    "import sys\n",
    "import time\n",
    "from dubLibs import boardcom\n",
    "from dubLibs import dubrovnik\n",
    "\n",
    "# os.system('cls')  # clear terminal screen\n",
    "# print(sys.path)\n",
    "os.chdir(r'c:\\MyLibs\\Dubrovnik\\dubScripts')\n",
    "# print(os.getcwd())\n",
    "\n",
    "comm = boardcom.BoardComm()   # create an instance of class BoardComm\n",
    "connectedPort = comm.find_and_connect(echo=1)\n",
    "du = dubrovnik.Dubrovnik()"
   ]
  },
  {
   "cell_type": "code",
   "execution_count": 3,
   "metadata": {},
   "outputs": [
    {
     "name": "stdout",
     "output_type": "stream",
     "text": [
      "<class 'dubLibs.dubrovnik.Dubrovnik'>\n"
     ]
    }
   ],
   "source": [
    "# du.read(comm, 0, 0x400, echo=1, dispmode=\n"
   ]
  },
  {
   "cell_type": "code",
   "execution_count": 5,
   "metadata": {},
   "outputs": [
    {
     "data": {
      "text/plain": [
       "['b 0 80; wait 0',\n",
       " 'ff ff ff ff ff ff ff ff ff ff ff ff ff ff ff ff ff ff ff ff ff ff ff ff ff ff ff ff ff ff ff ff ',\n",
       " 'ff ff ff ff ff ff ff ff ff ff ff ff ff ff ff ff ff ff ff ff ff ff ff ff ff ff ff ff ff ff ff ff ',\n",
       " 'ff ff ff ff ff ff ff ff ff ff ff ff ff ff ff ff ff ff ff ff ff ff ff ff ff ff ff ff ff ff ff ff ',\n",
       " 'ff ff ff ff ff ff ff ff ff ff ff ff ff ff ff ff ff ff ff ff ff ff ff ff ff ff ff ff ff ff ff ff ',\n",
       " '>>>']"
      ]
     },
     "execution_count": 5,
     "metadata": {},
     "output_type": "execute_result"
    }
   ],
   "source": [
    "comm.send('b 0 80; wait 0')\n",
    "comm.response(removeCmd=False, removePrompt=False, returnAsList=True)\n",
    "# comm.send('dvar wait_time')\n"
   ]
  },
  {
   "cell_type": "code",
   "execution_count": 8,
   "metadata": {},
   "outputs": [
    {
     "data": {
      "text/plain": [
       "112"
      ]
     },
     "execution_count": 8,
     "metadata": {},
     "output_type": "execute_result"
    }
   ],
   "source": [
    "du.page_program(comm, start_addr=0, length=200)"
   ]
  },
  {
   "cell_type": "code",
   "execution_count": 9,
   "metadata": {},
   "outputs": [
    {
     "data": {
      "text/plain": [
       "['dvar wait_time', '112 us', '>>>']"
      ]
     },
     "execution_count": 9,
     "metadata": {},
     "output_type": "execute_result"
    }
   ],
   "source": [
    "comm.response(removeCmd=False, removePrompt=False, returnAsList=True)"
   ]
  },
  {
   "cell_type": "code",
   "execution_count": 30,
   "metadata": {},
   "outputs": [
    {
     "name": "stdout",
     "output_type": "stream",
     "text": [
      "Chip Erase in progress...\n",
      "Done.\n",
      "0\n",
      "0 us\n"
     ]
    }
   ],
   "source": [
    "twait = du.block_erase(comm, block_size='chip')\n",
    "print(twait)\n",
    "print(du.time_conv_from_usec(twait))\n"
   ]
  },
  {
   "cell_type": "code",
   "execution_count": 32,
   "metadata": {},
   "outputs": [
    {
     "data": {
      "text/plain": [
       "'abc'"
      ]
     },
     "execution_count": 32,
     "metadata": {},
     "output_type": "execute_result"
    }
   ],
   "source": [
    "du.page_program(comm)\n",
    "du.textToDisplay\n"
   ]
  },
  {
   "cell_type": "code",
   "execution_count": 47,
   "metadata": {},
   "outputs": [
    {
     "data": {
      "text/plain": [
       "['b 0 80; wait 0',\n",
       " '00 00 00 00 00 00 00 00 00 00 00 00 00 00 00 00 00 00 00 00 00 00 00 00 00 00 00 00 00 00 00 00',\n",
       " '00 00 00 00 00 00 00 00 72 69 76 65 6e 20 62 79 20 52 61 6e 64 79 20 50 6f 62 73 74 2c 20 63 6c',\n",
       " '6f 63 6b 65 64 20 31 3a 32 38 2e 32 31 33 21 0a 55 6e 70 6c 75 67 67 65 64 20 50 65 72 66 6f 72',\n",
       " '6d 61 6e 63 65 20 61 6e 6e 6f 75 6e 63 65 64 20 74 68 61 74 20 69 74 73 20 72 61 63 65 2d 6d 6f']"
      ]
     },
     "execution_count": 47,
     "metadata": {},
     "output_type": "execute_result"
    }
   ],
   "source": [
    "comm.responselines()\n"
   ]
  },
  {
   "cell_type": "code",
   "execution_count": 41,
   "metadata": {},
   "outputs": [],
   "source": []
  },
  {
   "cell_type": "code",
   "execution_count": 40,
   "metadata": {},
   "outputs": [
    {
     "data": {
      "text/plain": [
       "['dvar wait_time', '110 us']"
      ]
     },
     "execution_count": 40,
     "metadata": {},
     "output_type": "execute_result"
    }
   ],
   "source": [
    "comm.responselines()"
   ]
  },
  {
   "cell_type": "code",
   "execution_count": 2,
   "metadata": {},
   "outputs": [
    {
     "data": {
      "text/plain": [
       "{'Part#': 'AT25SF641',\n",
       " 'Voltage': '3.153',\n",
       " 'Frequency': '60.00',\n",
       " 'Mode': 'SPI',\n",
       " 'Dummy Cycle Count': '4',\n",
       " 'Host Drive Strength': '6',\n",
       " 'avg': '1',\n",
       " 'vst (us)': '8244',\n",
       " 'vbt (us)': '1100',\n",
       " 'mode': 'sbc',\n",
       " 'meas': 'i',\n",
       " 'min meas time (us)': '9344'}"
      ]
     },
     "execution_count": 2,
     "metadata": {},
     "output_type": "execute_result"
    }
   ],
   "source": [
    "# du.get_part_number(comm)\n",
    "du.get_config(comm)\n"
   ]
  },
  {
   "cell_type": "code",
   "execution_count": 23,
   "metadata": {},
   "outputs": [
    {
     "data": {
      "text/plain": [
       "'3.153'"
      ]
     },
     "execution_count": 23,
     "metadata": {},
     "output_type": "execute_result"
    }
   ],
   "source": [
    "# du.get_part_number(comm)\n",
    "cfg = du.get_config(comm)\n",
    "cfg['Part#']\n",
    "cfg['Voltage']\n",
    "cfg['Frequency']"
   ]
  },
  {
   "cell_type": "code",
   "execution_count": 7,
   "metadata": {},
   "outputs": [
    {
     "name": "stdout",
     "output_type": "stream",
     "text": [
      "06; d8 0; wait 0\n",
      ">>>\n",
      " b 0 c8\n",
      "ff ff ff ff ff ff ff ff ff ff ff ff ff ff ff ff ff ff ff ff ff ff ff ff ff ff ff ff ff ff ff ff \n",
      "ff ff ff ff ff ff ff ff ff ff ff ff ff ff ff ff ff ff ff ff ff ff ff ff ff ff ff ff ff ff ff ff \n",
      "ff ff ff ff ff ff ff ff ff ff ff ff ff ff ff ff ff ff ff ff ff ff ff ff ff ff ff ff ff ff ff ff \n",
      "ff ff ff ff ff ff ff ff ff ff ff ff ff ff ff ff ff ff ff ff ff ff ff ff ff ff ff ff ff ff ff ff \n",
      "ff ff ff ff ff ff ff ff ff ff ff ff ff ff ff ff ff ff ff ff ff ff ff ff ff ff ff ff ff ff ff ff \n",
      "ff ff ff ff ff ff ff ff ff ff ff ff ff ff ff ff ff ff ff ff ff ff ff ff ff ff ff ff ff ff ff ff \n",
      "ff ff ff ff ff ff ff ff \n",
      ">>>\n"
     ]
    }
   ],
   "source": [
    "du.block_erase(comm, block_size=4, start_addr=0, echo=1)\n",
    "du.read(comm, opcode='b', staddr=0, length=200, echo=1)"
   ]
  },
  {
   "cell_type": "code",
   "execution_count": 13,
   "metadata": {},
   "outputs": [
    {
     "name": "stdout",
     "output_type": "stream",
     "text": [
      "b fa0 100\n"
     ]
    }
   ],
   "source": [
    "opcode = 'b'\n",
    "staddr = 4000\n",
    "nbyte = 0x100\n",
    "cmdstr = f'{opcode} {staddr:x} {nbyte:x}'\n",
    "print(cmdstr)"
   ]
  },
  {
   "cell_type": "code",
   "execution_count": 10,
   "metadata": {},
   "outputs": [
    {
     "ename": "NameError",
     "evalue": "name 'comm' is not defined",
     "output_type": "error",
     "traceback": [
      "\u001b[1;31m---------------------------------------------------------------------------\u001b[0m",
      "\u001b[1;31mNameError\u001b[0m                                 Traceback (most recent call last)",
      "\u001b[1;32m~\\AppData\\Local\\Temp/ipykernel_23724/450119215.py\u001b[0m in \u001b[0;36m<module>\u001b[1;34m\u001b[0m\n\u001b[0;32m      4\u001b[0m \u001b[1;32mdel\u001b[0m \u001b[0mcomm\u001b[0m\u001b[1;33m\u001b[0m\u001b[1;33m\u001b[0m\u001b[0m\n\u001b[0;32m      5\u001b[0m \u001b[1;32mdel\u001b[0m \u001b[0mdu\u001b[0m\u001b[1;33m\u001b[0m\u001b[1;33m\u001b[0m\u001b[0m\n\u001b[1;32m----> 6\u001b[1;33m \u001b[0mcomm\u001b[0m\u001b[1;33m.\u001b[0m\u001b[0mdisconnect\u001b[0m\u001b[1;33m(\u001b[0m\u001b[0mconnectedPort\u001b[0m\u001b[1;33m,\u001b[0m \u001b[0mecho\u001b[0m\u001b[1;33m=\u001b[0m\u001b[1;36m1\u001b[0m\u001b[1;33m)\u001b[0m\u001b[1;33m\u001b[0m\u001b[1;33m\u001b[0m\u001b[0m\n\u001b[0m",
      "\u001b[1;31mNameError\u001b[0m: name 'comm' is not defined"
     ]
    }
   ],
   "source": [
    "# ***********************************\n",
    "# ***** Disconnect, Delete Port *****\n",
    "# ***********************************\n",
    "del comm\n",
    "del du\n",
    "comm.disconnect(connectedPort, echo=1)\n"
   ]
  },
  {
   "cell_type": "code",
   "execution_count": 53,
   "metadata": {},
   "outputs": [
    {
     "name": "stdout",
     "output_type": "stream",
     "text": [
      "[5, 'hi', (1, 2, 3)]\n"
     ]
    }
   ],
   "source": [
    "def func(x):\n",
    "    if x:\n",
    "        return [5, 'hi', (1,2,3)]\n",
    "    else:\n",
    "        return 'Hello'\n",
    "\n",
    "print(func(True))"
   ]
  },
  {
   "cell_type": "code",
   "execution_count": null,
   "metadata": {},
   "outputs": [],
   "source": []
  }
 ],
 "metadata": {
  "kernelspec": {
   "display_name": "Python 3",
   "language": "python",
   "name": "python3"
  },
  "language_info": {
   "codemirror_mode": {
    "name": "ipython",
    "version": 3
   },
   "file_extension": ".py",
   "mimetype": "text/x-python",
   "name": "python",
   "nbconvert_exporter": "python",
   "pygments_lexer": "ipython3",
   "version": "3.9.2 (tags/v3.9.2:1a79785, Feb 19 2021, 13:44:55) [MSC v.1928 64 bit (AMD64)]"
  },
  "orig_nbformat": 2,
  "vscode": {
   "interpreter": {
    "hash": "73cef9b1c047c8956d95a1622f1a6ceeb8f33b45a13e3b4514321d37e7a75697"
   }
  }
 },
 "nbformat": 4,
 "nbformat_minor": 2
}
